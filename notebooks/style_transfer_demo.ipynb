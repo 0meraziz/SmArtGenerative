{
  "nbformat": 4,
  "nbformat_minor": 0,
  "metadata": {
    "accelerator": "GPU",
    "colab": {
      "name": "style_transfer_demo.ipynb",
      "provenance": [],
      "collapsed_sections": [],
      "toc_visible": true,
      "authorship_tag": "ABX9TyNAiUFdZrtviUlq9Bm3gKPA",
      "include_colab_link": true
    },
    "kernelspec": {
      "display_name": "Python 3",
      "name": "python3"
    },
    "language_info": {
      "name": "python"
    }
  },
  "cells": [
    {
      "cell_type": "markdown",
      "metadata": {
        "id": "view-in-github",
        "colab_type": "text"
      },
      "source": [
        "<a href=\"https://colab.research.google.com/github/disney-snoopy/SmArtGenerative/blob/master/notebooks/style_transfer_demo.ipynb\" target=\"_parent\"><img src=\"https://colab.research.google.com/assets/colab-badge.svg\" alt=\"Open In Colab\"/></a>"
      ]
    },
    {
      "cell_type": "markdown",
      "metadata": {
        "id": "WD3-PAgUeZr0"
      },
      "source": [
        "# 🖼 Upload style and content images then run the cell "
      ]
    },
    {
      "cell_type": "code",
      "metadata": {
        "id": "E5J0cF3IelgH"
      },
      "source": [
        "content_image_path = 'enter path to content image here'\n",
        "style_image_path = 'enter path to style image here'"
      ],
      "execution_count": null,
      "outputs": []
    },
    {
      "cell_type": "markdown",
      "metadata": {
        "id": "oPyem3zAdmHU"
      },
      "source": [
        "# ⬇ Collapse and click ▶️ to load the package"
      ]
    },
    {
      "cell_type": "code",
      "metadata": {
        "colab": {
          "base_uri": "https://localhost:8080/"
        },
        "id": "CPO8BWJCngyF",
        "outputId": "5b6f2437-e89b-4c5d-869b-a3408b8efd52"
      },
      "source": [
        "!pip install -q git+https://github.com/disney-snoopy/SmArtGenerative"
      ],
      "execution_count": null,
      "outputs": [
        {
          "output_type": "stream",
          "text": [
            "\u001b[?25l\r\u001b[K     |▎                               | 10kB 33.6MB/s eta 0:00:01\r\u001b[K     |▋                               | 20kB 40.2MB/s eta 0:00:01\r\u001b[K     |█                               | 30kB 42.5MB/s eta 0:00:01\r\u001b[K     |█▏                              | 40kB 44.4MB/s eta 0:00:01\r\u001b[K     |█▌                              | 51kB 46.4MB/s eta 0:00:01\r\u001b[K     |█▉                              | 61kB 36.1MB/s eta 0:00:01\r\u001b[K     |██                              | 71kB 34.2MB/s eta 0:00:01\r\u001b[K     |██▍                             | 81kB 28.9MB/s eta 0:00:01\r\u001b[K     |██▊                             | 92kB 27.7MB/s eta 0:00:01\r\u001b[K     |███                             | 102kB 29.1MB/s eta 0:00:01\r\u001b[K     |███▎                            | 112kB 29.1MB/s eta 0:00:01\r\u001b[K     |███▋                            | 122kB 29.1MB/s eta 0:00:01\r\u001b[K     |███▉                            | 133kB 29.1MB/s eta 0:00:01\r\u001b[K     |████▏                           | 143kB 29.1MB/s eta 0:00:01\r\u001b[K     |████▌                           | 153kB 29.1MB/s eta 0:00:01\r\u001b[K     |████▉                           | 163kB 29.1MB/s eta 0:00:01\r\u001b[K     |█████                           | 174kB 29.1MB/s eta 0:00:01\r\u001b[K     |█████▍                          | 184kB 29.1MB/s eta 0:00:01\r\u001b[K     |█████▊                          | 194kB 29.1MB/s eta 0:00:01\r\u001b[K     |██████                          | 204kB 29.1MB/s eta 0:00:01\r\u001b[K     |██████▎                         | 215kB 29.1MB/s eta 0:00:01\r\u001b[K     |██████▋                         | 225kB 29.1MB/s eta 0:00:01\r\u001b[K     |██████▉                         | 235kB 29.1MB/s eta 0:00:01\r\u001b[K     |███████▏                        | 245kB 29.1MB/s eta 0:00:01\r\u001b[K     |███████▌                        | 256kB 29.1MB/s eta 0:00:01\r\u001b[K     |███████▊                        | 266kB 29.1MB/s eta 0:00:01\r\u001b[K     |████████                        | 276kB 29.1MB/s eta 0:00:01\r\u001b[K     |████████▍                       | 286kB 29.1MB/s eta 0:00:01\r\u001b[K     |████████▊                       | 296kB 29.1MB/s eta 0:00:01\r\u001b[K     |█████████                       | 307kB 29.1MB/s eta 0:00:01\r\u001b[K     |█████████▎                      | 317kB 29.1MB/s eta 0:00:01\r\u001b[K     |█████████▋                      | 327kB 29.1MB/s eta 0:00:01\r\u001b[K     |█████████▉                      | 337kB 29.1MB/s eta 0:00:01\r\u001b[K     |██████████▏                     | 348kB 29.1MB/s eta 0:00:01\r\u001b[K     |██████████▌                     | 358kB 29.1MB/s eta 0:00:01\r\u001b[K     |██████████▊                     | 368kB 29.1MB/s eta 0:00:01\r\u001b[K     |███████████                     | 378kB 29.1MB/s eta 0:00:01\r\u001b[K     |███████████▍                    | 389kB 29.1MB/s eta 0:00:01\r\u001b[K     |███████████▋                    | 399kB 29.1MB/s eta 0:00:01\r\u001b[K     |████████████                    | 409kB 29.1MB/s eta 0:00:01\r\u001b[K     |████████████▎                   | 419kB 29.1MB/s eta 0:00:01\r\u001b[K     |████████████▌                   | 430kB 29.1MB/s eta 0:00:01\r\u001b[K     |████████████▉                   | 440kB 29.1MB/s eta 0:00:01\r\u001b[K     |█████████████▏                  | 450kB 29.1MB/s eta 0:00:01\r\u001b[K     |█████████████▌                  | 460kB 29.1MB/s eta 0:00:01\r\u001b[K     |█████████████▊                  | 471kB 29.1MB/s eta 0:00:01\r\u001b[K     |██████████████                  | 481kB 29.1MB/s eta 0:00:01\r\u001b[K     |██████████████▍                 | 491kB 29.1MB/s eta 0:00:01\r\u001b[K     |██████████████▋                 | 501kB 29.1MB/s eta 0:00:01\r\u001b[K     |███████████████                 | 512kB 29.1MB/s eta 0:00:01\r\u001b[K     |███████████████▎                | 522kB 29.1MB/s eta 0:00:01\r\u001b[K     |███████████████▌                | 532kB 29.1MB/s eta 0:00:01\r\u001b[K     |███████████████▉                | 542kB 29.1MB/s eta 0:00:01\r\u001b[K     |████████████████▏               | 552kB 29.1MB/s eta 0:00:01\r\u001b[K     |████████████████▍               | 563kB 29.1MB/s eta 0:00:01\r\u001b[K     |████████████████▊               | 573kB 29.1MB/s eta 0:00:01\r\u001b[K     |█████████████████               | 583kB 29.1MB/s eta 0:00:01\r\u001b[K     |█████████████████▍              | 593kB 29.1MB/s eta 0:00:01\r\u001b[K     |█████████████████▋              | 604kB 29.1MB/s eta 0:00:01\r\u001b[K     |██████████████████              | 614kB 29.1MB/s eta 0:00:01\r\u001b[K     |██████████████████▎             | 624kB 29.1MB/s eta 0:00:01\r\u001b[K     |██████████████████▌             | 634kB 29.1MB/s eta 0:00:01\r\u001b[K     |██████████████████▉             | 645kB 29.1MB/s eta 0:00:01\r\u001b[K     |███████████████████▏            | 655kB 29.1MB/s eta 0:00:01\r\u001b[K     |███████████████████▍            | 665kB 29.1MB/s eta 0:00:01\r\u001b[K     |███████████████████▊            | 675kB 29.1MB/s eta 0:00:01\r\u001b[K     |████████████████████            | 686kB 29.1MB/s eta 0:00:01\r\u001b[K     |████████████████████▎           | 696kB 29.1MB/s eta 0:00:01\r\u001b[K     |████████████████████▋           | 706kB 29.1MB/s eta 0:00:01\r\u001b[K     |█████████████████████           | 716kB 29.1MB/s eta 0:00:01\r\u001b[K     |█████████████████████▏          | 727kB 29.1MB/s eta 0:00:01\r\u001b[K     |█████████████████████▌          | 737kB 29.1MB/s eta 0:00:01\r\u001b[K     |█████████████████████▉          | 747kB 29.1MB/s eta 0:00:01\r\u001b[K     |██████████████████████▏         | 757kB 29.1MB/s eta 0:00:01\r\u001b[K     |██████████████████████▍         | 768kB 29.1MB/s eta 0:00:01\r\u001b[K     |██████████████████████▊         | 778kB 29.1MB/s eta 0:00:01\r\u001b[K     |███████████████████████         | 788kB 29.1MB/s eta 0:00:01\r\u001b[K     |███████████████████████▎        | 798kB 29.1MB/s eta 0:00:01\r\u001b[K     |███████████████████████▋        | 808kB 29.1MB/s eta 0:00:01\r\u001b[K     |████████████████████████        | 819kB 29.1MB/s eta 0:00:01\r\u001b[K     |████████████████████████▏       | 829kB 29.1MB/s eta 0:00:01\r\u001b[K     |████████████████████████▌       | 839kB 29.1MB/s eta 0:00:01\r\u001b[K     |████████████████████████▉       | 849kB 29.1MB/s eta 0:00:01\r\u001b[K     |█████████████████████████       | 860kB 29.1MB/s eta 0:00:01\r\u001b[K     |█████████████████████████▍      | 870kB 29.1MB/s eta 0:00:01\r\u001b[K     |█████████████████████████▊      | 880kB 29.1MB/s eta 0:00:01\r\u001b[K     |██████████████████████████      | 890kB 29.1MB/s eta 0:00:01\r\u001b[K     |██████████████████████████▎     | 901kB 29.1MB/s eta 0:00:01\r\u001b[K     |██████████████████████████▋     | 911kB 29.1MB/s eta 0:00:01\r\u001b[K     |███████████████████████████     | 921kB 29.1MB/s eta 0:00:01\r\u001b[K     |███████████████████████████▏    | 931kB 29.1MB/s eta 0:00:01\r\u001b[K     |███████████████████████████▌    | 942kB 29.1MB/s eta 0:00:01\r\u001b[K     |███████████████████████████▉    | 952kB 29.1MB/s eta 0:00:01\r\u001b[K     |████████████████████████████    | 962kB 29.1MB/s eta 0:00:01\r\u001b[K     |████████████████████████████▍   | 972kB 29.1MB/s eta 0:00:01\r\u001b[K     |████████████████████████████▊   | 983kB 29.1MB/s eta 0:00:01\r\u001b[K     |█████████████████████████████   | 993kB 29.1MB/s eta 0:00:01\r\u001b[K     |█████████████████████████████▎  | 1.0MB 29.1MB/s eta 0:00:01\r\u001b[K     |█████████████████████████████▋  | 1.0MB 29.1MB/s eta 0:00:01\r\u001b[K     |█████████████████████████████▉  | 1.0MB 29.1MB/s eta 0:00:01\r\u001b[K     |██████████████████████████████▏ | 1.0MB 29.1MB/s eta 0:00:01\r\u001b[K     |██████████████████████████████▌ | 1.0MB 29.1MB/s eta 0:00:01\r\u001b[K     |██████████████████████████████▉ | 1.1MB 29.1MB/s eta 0:00:01\r\u001b[K     |███████████████████████████████ | 1.1MB 29.1MB/s eta 0:00:01\r\u001b[K     |███████████████████████████████▍| 1.1MB 29.1MB/s eta 0:00:01\r\u001b[K     |███████████████████████████████▊| 1.1MB 29.1MB/s eta 0:00:01\r\u001b[K     |████████████████████████████████| 1.1MB 29.1MB/s eta 0:00:01\r\u001b[K     |████████████████████████████████| 1.1MB 29.1MB/s \n",
            "\u001b[?25h  Installing build dependencies ... \u001b[?25l\u001b[?25hdone\n",
            "  Getting requirements to build wheel ... \u001b[?25l\u001b[?25hdone\n",
            "    Preparing wheel metadata ... \u001b[?25l\u001b[?25hdone\n",
            "\u001b[K     |████████████████████████████████| 81kB 11.9MB/s \n",
            "\u001b[K     |████████████████████████████████| 194kB 57.8MB/s \n",
            "\u001b[K     |████████████████████████████████| 14.2MB 225kB/s \n",
            "\u001b[K     |████████████████████████████████| 7.0MB 47.2MB/s \n",
            "\u001b[K     |████████████████████████████████| 61kB 10.0MB/s \n",
            "\u001b[K     |████████████████████████████████| 727kB 51.4MB/s \n",
            "\u001b[K     |████████████████████████████████| 747kB 55.6MB/s \n",
            "\u001b[K     |████████████████████████████████| 71kB 10.5MB/s \n",
            "\u001b[K     |████████████████████████████████| 51kB 8.3MB/s \n",
            "\u001b[K     |████████████████████████████████| 1.3MB 53.0MB/s \n",
            "\u001b[K     |████████████████████████████████| 112kB 61.8MB/s \n",
            "\u001b[K     |████████████████████████████████| 1.1MB 54.4MB/s \n",
            "\u001b[K     |████████████████████████████████| 61kB 9.4MB/s \n",
            "\u001b[K     |████████████████████████████████| 163kB 57.2MB/s \n",
            "\u001b[K     |████████████████████████████████| 81kB 12.2MB/s \n",
            "\u001b[K     |████████████████████████████████| 153kB 57.9MB/s \n",
            "\u001b[K     |████████████████████████████████| 4.6MB 55.1MB/s \n",
            "\u001b[K     |████████████████████████████████| 81kB 12.4MB/s \n",
            "\u001b[K     |████████████████████████████████| 112kB 63.9MB/s \n",
            "\u001b[K     |████████████████████████████████| 51kB 8.5MB/s \n",
            "\u001b[K     |████████████████████████████████| 143kB 60.0MB/s \n",
            "\u001b[K     |████████████████████████████████| 296kB 61.6MB/s \n",
            "\u001b[K     |████████████████████████████████| 81kB 12.6MB/s \n",
            "\u001b[K     |████████████████████████████████| 71kB 11.7MB/s \n",
            "\u001b[K     |████████████████████████████████| 61kB 10.2MB/s \n",
            "\u001b[K     |████████████████████████████████| 3.2MB 54.4MB/s \n",
            "\u001b[?25h  Building wheel for black (PEP 517) ... \u001b[?25l\u001b[?25hdone\n",
            "  Building wheel for SmArtGenerative (setup.py) ... \u001b[?25l\u001b[?25hdone\n",
            "  Building wheel for memoized-property (setup.py) ... \u001b[?25l\u001b[?25hdone\n",
            "  Building wheel for alembic (setup.py) ... \u001b[?25l\u001b[?25hdone\n",
            "  Building wheel for databricks-cli (setup.py) ... \u001b[?25l\u001b[?25hdone\n",
            "  Building wheel for prometheus-flask-exporter (setup.py) ... \u001b[?25l\u001b[?25hdone\n",
            "  Building wheel for blinker (setup.py) ... \u001b[?25l\u001b[?25hdone\n",
            "\u001b[31mERROR: pydeck 0.6.1 has requirement ipykernel>=5.1.2; python_version >= \"3.4\", but you'll have ipykernel 4.10.1 which is incompatible.\u001b[0m\n"
          ],
          "name": "stdout"
        }
      ]
    },
    {
      "cell_type": "code",
      "metadata": {
        "id": "fGa3WGfvoTw9"
      },
      "source": [
        "from SmArtGenerative.image_utils import load_uploaded_image, load_img, tensor_to_image, load_styles, load_styles_local, STYLES\n",
        "from SmArtGenerative.transfer_functions import multiple_styles\n",
        "from SmArtGenerative.tf_styletransfer import Transfer"
      ],
      "execution_count": null,
      "outputs": []
    },
    {
      "cell_type": "code",
      "metadata": {
        "id": "6Yj3RJ2or41o"
      },
      "source": [
        "def style_transfer(content_img, style_img):\n",
        "    model = Transfer(content_img, style_img,\n",
        "                     n_epochs=80, n_steps=10, store_iter=True, show_image=True)\n",
        "    model.transfer()\n",
        "    img = tensor_to_image(model.image)\n",
        "    img_list = [tensor_to_image(x) for x in model.img_list]\n",
        "    return img, img_list"
      ],
      "execution_count": null,
      "outputs": []
    },
    {
      "cell_type": "code",
      "metadata": {
        "id": "SE-UCVCOpmWp"
      },
      "source": [
        "#Loading the images "
      ],
      "execution_count": null,
      "outputs": []
    },
    {
      "cell_type": "code",
      "metadata": {
        "id": "LpOlIxGtp0yw"
      },
      "source": [
        "content_image = load_img(content_image_path)\n",
        "style_image = load_img(style_image_path)\n"
      ],
      "execution_count": null,
      "outputs": []
    },
    {
      "cell_type": "markdown",
      "metadata": {
        "id": "Odn5EAX9fGYe"
      },
      "source": [
        "# ⬇ Click ▶️ to start the transfer"
      ]
    },
    {
      "cell_type": "code",
      "metadata": {
        "id": "yAM2Fp41fQXl"
      },
      "source": [
        "img, img_list = style_transfer(content_image, style_image)\n",
        "img.save('out.jpg')\n",
        "img.save('animation.gif', save_all=True, append_images=img_list, loop=0)"
      ],
      "execution_count": null,
      "outputs": []
    },
    {
      "cell_type": "markdown",
      "metadata": {
        "id": "gFIFPfRShxeh"
      },
      "source": [
        "Your results will be saved on the left! "
      ]
    },
    {
      "cell_type": "code",
      "metadata": {
        "id": "59yGLsCM1lJa"
      },
      "source": [
        ""
      ],
      "execution_count": null,
      "outputs": []
    }
  ]
}